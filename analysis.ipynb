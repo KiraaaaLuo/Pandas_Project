{
 "cells": [
  {
   "cell_type": "markdown",
   "metadata": {},
   "source": [
    "# pandas exploration\n",
    "In this assignment you will select a data set and do some munging and analysis of it using `pandas`, Jupyter Notebooks, and associated Python-centric data science tools."
   ]
  },
  {
   "cell_type": "markdown",
   "metadata": {},
   "source": [
    "Import the core data science libraries:"
   ]
  },
  {
   "cell_type": "code",
   "execution_count": 192,
   "metadata": {},
   "outputs": [],
   "source": [
    "%matplotlib inline\n",
    "import matplotlib.pyplot as plt\n",
    "import numpy as np\n",
    "import pandas as pd"
   ]
  },
  {
   "cell_type": "markdown",
   "metadata": {},
   "source": [
    "## Import the raw data\n",
    "In this section, you will import the raw data into a `pandas` DataFrame."
   ]
  },
  {
   "cell_type": "code",
   "execution_count": 193,
   "metadata": {},
   "outputs": [],
   "source": [
    "# place your code into this Code cell\n",
    "df = pd.read_csv ('2018_-_2019_Career_Technical_Education_Report.csv') #the dataset comes from NYC Open Data"
   ]
  },
  {
   "cell_type": "markdown",
   "metadata": {},
   "source": [
    "## Data inspection\n",
    "In this section, you will show enough of your data for a viewer to get a general sense of how the data is structured and any unique features of it.  Complete each of the indicated tasks in a Code cell, making sure to include a Markdown cell above each Code cell that explains what is being shown by the code.  \n",
    "- Show 5 rows, selected at random, from the data set.\n",
    "- Show each of the column names and their data types.\n",
    "- Show any unique features of your chosen data set.\n",
    "\n",
    "Feel free to add as many additional cells as you need to help explain the raw data."
   ]
  },
  {
   "cell_type": "markdown",
   "metadata": {},
   "source": [
    "Show 5 rows, selected at random, from the data set:"
   ]
  },
  {
   "cell_type": "code",
   "execution_count": 194,
   "metadata": {},
   "outputs": [
    {
     "data": {
      "text/html": [
       "<div>\n",
       "<style scoped>\n",
       "    .dataframe tbody tr th:only-of-type {\n",
       "        vertical-align: middle;\n",
       "    }\n",
       "\n",
       "    .dataframe tbody tr th {\n",
       "        vertical-align: top;\n",
       "    }\n",
       "\n",
       "    .dataframe thead th {\n",
       "        text-align: right;\n",
       "    }\n",
       "</style>\n",
       "<table border=\"1\" class=\"dataframe\">\n",
       "  <thead>\n",
       "    <tr style=\"text-align: right;\">\n",
       "      <th></th>\n",
       "      <th>DBN</th>\n",
       "      <th>School Name</th>\n",
       "      <th>CTE Designated High School</th>\n",
       "      <th>Program CIP Code</th>\n",
       "      <th>Program Name</th>\n",
       "      <th>Industry Cluster</th>\n",
       "      <th>Number of Industry Partners</th>\n",
       "      <th>Is NYSED Approved</th>\n",
       "      <th>Grade Levels Served</th>\n",
       "      <th>Enrolled Student Counts</th>\n",
       "      <th>Number of Staff Attending DOE CTE PD</th>\n",
       "    </tr>\n",
       "  </thead>\n",
       "  <tbody>\n",
       "    <tr>\n",
       "      <th>105</th>\n",
       "      <td>13K605</td>\n",
       "      <td>George Westinghouse Career and Technical Educa...</td>\n",
       "      <td>True</td>\n",
       "      <td>111004</td>\n",
       "      <td>Web/Multimedia Management and Webmaster</td>\n",
       "      <td>Information Technology Cluster</td>\n",
       "      <td>2</td>\n",
       "      <td>Non-Approved</td>\n",
       "      <td>9101112.0</td>\n",
       "      <td>176</td>\n",
       "      <td>18</td>\n",
       "    </tr>\n",
       "    <tr>\n",
       "      <th>118</th>\n",
       "      <td>15K497</td>\n",
       "      <td>The Boerum Hill School for International Studies</td>\n",
       "      <td>False</td>\n",
       "      <td>120599</td>\n",
       "      <td>Culinary Arts and Related Services, Other</td>\n",
       "      <td>Hospitality and Tourism Cluster</td>\n",
       "      <td>5</td>\n",
       "      <td>Approved</td>\n",
       "      <td>9101112.0</td>\n",
       "      <td>218</td>\n",
       "      <td>3</td>\n",
       "    </tr>\n",
       "    <tr>\n",
       "      <th>140</th>\n",
       "      <td>19K615</td>\n",
       "      <td>Transit Tech Career and Technical Education Hi...</td>\n",
       "      <td>True</td>\n",
       "      <td>470104</td>\n",
       "      <td>Computer Installation and Repair Technology/Te...</td>\n",
       "      <td>Information Technology Cluster</td>\n",
       "      <td>2</td>\n",
       "      <td>Approved</td>\n",
       "      <td>9101112.0</td>\n",
       "      <td>219</td>\n",
       "      <td>17</td>\n",
       "    </tr>\n",
       "    <tr>\n",
       "      <th>171</th>\n",
       "      <td>21K690</td>\n",
       "      <td>Brooklyn Studio Secondary School</td>\n",
       "      <td>False</td>\n",
       "      <td>500102</td>\n",
       "      <td>Digital Arts</td>\n",
       "      <td>Arts, Audio/Video Technology and Communication...</td>\n",
       "      <td>3</td>\n",
       "      <td>Approved</td>\n",
       "      <td>9101112.0</td>\n",
       "      <td>274</td>\n",
       "      <td>6</td>\n",
       "    </tr>\n",
       "    <tr>\n",
       "      <th>51</th>\n",
       "      <td>03M402</td>\n",
       "      <td>The Urban Assembly School for Green Careers</td>\n",
       "      <td>True</td>\n",
       "      <td>460401</td>\n",
       "      <td>Building/Property Maintenance and Manager</td>\n",
       "      <td>Architecture and Construction Cluster</td>\n",
       "      <td>7</td>\n",
       "      <td>Approved</td>\n",
       "      <td>9101112.0</td>\n",
       "      <td>189</td>\n",
       "      <td>8</td>\n",
       "    </tr>\n",
       "  </tbody>\n",
       "</table>\n",
       "</div>"
      ],
      "text/plain": [
       "        DBN                                        School Name  \\\n",
       "105  13K605  George Westinghouse Career and Technical Educa...   \n",
       "118  15K497   The Boerum Hill School for International Studies   \n",
       "140  19K615  Transit Tech Career and Technical Education Hi...   \n",
       "171  21K690                   Brooklyn Studio Secondary School   \n",
       "51   03M402        The Urban Assembly School for Green Careers   \n",
       "\n",
       "     CTE Designated High School  Program CIP Code  \\\n",
       "105                        True            111004   \n",
       "118                       False            120599   \n",
       "140                        True            470104   \n",
       "171                       False            500102   \n",
       "51                         True            460401   \n",
       "\n",
       "                                          Program Name  \\\n",
       "105            Web/Multimedia Management and Webmaster   \n",
       "118          Culinary Arts and Related Services, Other   \n",
       "140  Computer Installation and Repair Technology/Te...   \n",
       "171                                       Digital Arts   \n",
       "51           Building/Property Maintenance and Manager   \n",
       "\n",
       "                                      Industry Cluster  \\\n",
       "105                     Information Technology Cluster   \n",
       "118                    Hospitality and Tourism Cluster   \n",
       "140                     Information Technology Cluster   \n",
       "171  Arts, Audio/Video Technology and Communication...   \n",
       "51               Architecture and Construction Cluster   \n",
       "\n",
       "     Number of Industry Partners Is NYSED Approved  Grade Levels Served  \\\n",
       "105                            2      Non-Approved            9101112.0   \n",
       "118                            5          Approved            9101112.0   \n",
       "140                            2          Approved            9101112.0   \n",
       "171                            3          Approved            9101112.0   \n",
       "51                             7          Approved            9101112.0   \n",
       "\n",
       "     Enrolled Student Counts  Number of Staff Attending DOE CTE PD  \n",
       "105                      176                                    18  \n",
       "118                      218                                     3  \n",
       "140                      219                                    17  \n",
       "171                      274                                     6  \n",
       "51                       189                                     8  "
      ]
     },
     "execution_count": 194,
     "metadata": {},
     "output_type": "execute_result"
    }
   ],
   "source": [
    "df.sample(5)"
   ]
  },
  {
   "cell_type": "markdown",
   "metadata": {},
   "source": [
    "Show each of the column names and their data types:"
   ]
  },
  {
   "cell_type": "code",
   "execution_count": 195,
   "metadata": {},
   "outputs": [
    {
     "name": "stdout",
     "output_type": "stream",
     "text": [
      "<class 'pandas.core.frame.DataFrame'>\n",
      "RangeIndex: 301 entries, 0 to 300\n",
      "Data columns (total 11 columns):\n",
      " #   Column                                Non-Null Count  Dtype  \n",
      "---  ------                                --------------  -----  \n",
      " 0   DBN                                   301 non-null    object \n",
      " 1   School Name                           301 non-null    object \n",
      " 2   CTE Designated High School            301 non-null    bool   \n",
      " 3   Program CIP Code                      301 non-null    int64  \n",
      " 4   Program Name                          301 non-null    object \n",
      " 5   Industry Cluster                      301 non-null    object \n",
      " 6   Number of Industry Partners           301 non-null    int64  \n",
      " 7   Is NYSED Approved                     301 non-null    object \n",
      " 8   Grade Levels Served                   296 non-null    float64\n",
      " 9   Enrolled Student Counts               301 non-null    int64  \n",
      " 10  Number of Staff Attending DOE CTE PD  301 non-null    int64  \n",
      "dtypes: bool(1), float64(1), int64(4), object(5)\n",
      "memory usage: 23.9+ KB\n"
     ]
    }
   ],
   "source": [
    "df.info()"
   ]
  },
  {
   "cell_type": "markdown",
   "metadata": {},
   "source": [
    "Show any unique features of your chosen data set."
   ]
  },
  {
   "cell_type": "markdown",
   "metadata": {},
   "source": [
    "My dataset is unqiue because I found that the Enrolled Student Counts and Number of Staff Attending DOE CTE PD do NOT denpend on whether a school is CTE Designated High School or not, which is different from the majority's expectation. Besides, whether a school is NYSED Approved or not also does not account for Enrolled Student Counts and Number of Staff Attending DOE CTE PD. Additionally, each school has an unqiue DBN code and their programs have a unique Program CIP Code. "
   ]
  },
  {
   "cell_type": "markdown",
   "metadata": {},
   "source": [
    "## Data munging\n",
    "Place your **data munging** code and documentation within this section.  \n",
    "- Keep each of your Code cells short and focused on a single task.  \n",
    "- Include a Markdown cell above each code cell that describes what task the code within the code cell is performing.\n",
    "- Make as many code cells as you need to complete the munging - a few have been created for you to start with.\n",
    "- Display 5 sample rows of the modified data after each transformation so a viewer can see how the data has changed.\n",
    "\n",
    "**Note**: If you believe that your data set does not require any munging, please explain in detail.  Create Markdown cells that explain your thinking and create Code cells that show any specific structures of the data you refer to in your explanation."
   ]
  },
  {
   "cell_type": "markdown",
   "metadata": {},
   "source": [
    "since I don't want to change my original dataset but make a copy of it, I will:"
   ]
  },
  {
   "cell_type": "code",
   "execution_count": 196,
   "metadata": {},
   "outputs": [],
   "source": [
    "local_df = df"
   ]
  },
  {
   "cell_type": "markdown",
   "metadata": {},
   "source": [
    "1.drop rows with missing values"
   ]
  },
  {
   "cell_type": "code",
   "execution_count": 197,
   "metadata": {
    "scrolled": false
   },
   "outputs": [
    {
     "data": {
      "text/html": [
       "<div>\n",
       "<style scoped>\n",
       "    .dataframe tbody tr th:only-of-type {\n",
       "        vertical-align: middle;\n",
       "    }\n",
       "\n",
       "    .dataframe tbody tr th {\n",
       "        vertical-align: top;\n",
       "    }\n",
       "\n",
       "    .dataframe thead th {\n",
       "        text-align: right;\n",
       "    }\n",
       "</style>\n",
       "<table border=\"1\" class=\"dataframe\">\n",
       "  <thead>\n",
       "    <tr style=\"text-align: right;\">\n",
       "      <th></th>\n",
       "      <th>DBN</th>\n",
       "      <th>School Name</th>\n",
       "      <th>CTE Designated High School</th>\n",
       "      <th>Program CIP Code</th>\n",
       "      <th>Program Name</th>\n",
       "      <th>Industry Cluster</th>\n",
       "      <th>Number of Industry Partners</th>\n",
       "      <th>Is NYSED Approved</th>\n",
       "      <th>Grade Levels Served</th>\n",
       "      <th>Enrolled Student Counts</th>\n",
       "      <th>Number of Staff Attending DOE CTE PD</th>\n",
       "    </tr>\n",
       "  </thead>\n",
       "  <tbody>\n",
       "    <tr>\n",
       "      <th>237</th>\n",
       "      <td>28Q620</td>\n",
       "      <td>Thomas A. Edison Career and Technical Educatio...</td>\n",
       "      <td>True</td>\n",
       "      <td>150405</td>\n",
       "      <td>Robotics Technology/Technician</td>\n",
       "      <td>Manufacturing Production Cluster</td>\n",
       "      <td>2</td>\n",
       "      <td>Approved</td>\n",
       "      <td>9101112.0</td>\n",
       "      <td>164</td>\n",
       "      <td>29</td>\n",
       "    </tr>\n",
       "    <tr>\n",
       "      <th>151</th>\n",
       "      <td>19K764</td>\n",
       "      <td>The Urban Assembly School for Collaborative He...</td>\n",
       "      <td>True</td>\n",
       "      <td>519999</td>\n",
       "      <td>Health Professions and Related Clinical Servic...</td>\n",
       "      <td>Health Science Cluster</td>\n",
       "      <td>5</td>\n",
       "      <td>Non-Approved</td>\n",
       "      <td>9101112.0</td>\n",
       "      <td>184</td>\n",
       "      <td>8</td>\n",
       "    </tr>\n",
       "    <tr>\n",
       "      <th>74</th>\n",
       "      <td>08X559</td>\n",
       "      <td>School for Tourism and Hospitality</td>\n",
       "      <td>False</td>\n",
       "      <td>520903</td>\n",
       "      <td>Tourism and Travel Services Management</td>\n",
       "      <td>Hospitality and Tourism Cluster</td>\n",
       "      <td>1</td>\n",
       "      <td>Non-Approved</td>\n",
       "      <td>9101112.0</td>\n",
       "      <td>201</td>\n",
       "      <td>3</td>\n",
       "    </tr>\n",
       "    <tr>\n",
       "      <th>93</th>\n",
       "      <td>11X270</td>\n",
       "      <td>Academy for Scholarship and Entrepreneurship: ...</td>\n",
       "      <td>False</td>\n",
       "      <td>520701</td>\n",
       "      <td>Entrepreneurship/Entrepreneurial Studies</td>\n",
       "      <td>Business Management and Administration Cluster</td>\n",
       "      <td>5</td>\n",
       "      <td>Approved</td>\n",
       "      <td>9101112.0</td>\n",
       "      <td>326</td>\n",
       "      <td>10</td>\n",
       "    </tr>\n",
       "    <tr>\n",
       "      <th>199</th>\n",
       "      <td>25Q460</td>\n",
       "      <td>Flushing High School</td>\n",
       "      <td>False</td>\n",
       "      <td>520101</td>\n",
       "      <td>Business/Commerce, General</td>\n",
       "      <td>Business Management and Administration Cluster</td>\n",
       "      <td>5</td>\n",
       "      <td>Approved</td>\n",
       "      <td>9101112.0</td>\n",
       "      <td>160</td>\n",
       "      <td>7</td>\n",
       "    </tr>\n",
       "  </tbody>\n",
       "</table>\n",
       "</div>"
      ],
      "text/plain": [
       "        DBN                                        School Name  \\\n",
       "237  28Q620  Thomas A. Edison Career and Technical Educatio...   \n",
       "151  19K764  The Urban Assembly School for Collaborative He...   \n",
       "74   08X559                 School for Tourism and Hospitality   \n",
       "93   11X270  Academy for Scholarship and Entrepreneurship: ...   \n",
       "199  25Q460                               Flushing High School   \n",
       "\n",
       "     CTE Designated High School  Program CIP Code  \\\n",
       "237                        True            150405   \n",
       "151                        True            519999   \n",
       "74                        False            520903   \n",
       "93                        False            520701   \n",
       "199                       False            520101   \n",
       "\n",
       "                                          Program Name  \\\n",
       "237                     Robotics Technology/Technician   \n",
       "151  Health Professions and Related Clinical Servic...   \n",
       "74              Tourism and Travel Services Management   \n",
       "93            Entrepreneurship/Entrepreneurial Studies   \n",
       "199                         Business/Commerce, General   \n",
       "\n",
       "                                   Industry Cluster  \\\n",
       "237                Manufacturing Production Cluster   \n",
       "151                          Health Science Cluster   \n",
       "74                  Hospitality and Tourism Cluster   \n",
       "93   Business Management and Administration Cluster   \n",
       "199  Business Management and Administration Cluster   \n",
       "\n",
       "     Number of Industry Partners Is NYSED Approved  Grade Levels Served  \\\n",
       "237                            2          Approved            9101112.0   \n",
       "151                            5      Non-Approved            9101112.0   \n",
       "74                             1      Non-Approved            9101112.0   \n",
       "93                             5          Approved            9101112.0   \n",
       "199                            5          Approved            9101112.0   \n",
       "\n",
       "     Enrolled Student Counts  Number of Staff Attending DOE CTE PD  \n",
       "237                      164                                    29  \n",
       "151                      184                                     8  \n",
       "74                       201                                     3  \n",
       "93                       326                                    10  \n",
       "199                      160                                     7  "
      ]
     },
     "execution_count": 197,
     "metadata": {},
     "output_type": "execute_result"
    }
   ],
   "source": [
    "local_df=df.dropna()\n",
    "local_df.sample(5)"
   ]
  },
  {
   "cell_type": "code",
   "execution_count": 198,
   "metadata": {},
   "outputs": [
    {
     "name": "stdout",
     "output_type": "stream",
     "text": [
      "<class 'pandas.core.frame.DataFrame'>\n",
      "Int64Index: 296 entries, 0 to 300\n",
      "Data columns (total 11 columns):\n",
      " #   Column                                Non-Null Count  Dtype  \n",
      "---  ------                                --------------  -----  \n",
      " 0   DBN                                   296 non-null    object \n",
      " 1   School Name                           296 non-null    object \n",
      " 2   CTE Designated High School            296 non-null    bool   \n",
      " 3   Program CIP Code                      296 non-null    int64  \n",
      " 4   Program Name                          296 non-null    object \n",
      " 5   Industry Cluster                      296 non-null    object \n",
      " 6   Number of Industry Partners           296 non-null    int64  \n",
      " 7   Is NYSED Approved                     296 non-null    object \n",
      " 8   Grade Levels Served                   296 non-null    float64\n",
      " 9   Enrolled Student Counts               296 non-null    int64  \n",
      " 10  Number of Staff Attending DOE CTE PD  296 non-null    int64  \n",
      "dtypes: bool(1), float64(1), int64(4), object(5)\n",
      "memory usage: 25.7+ KB\n"
     ]
    }
   ],
   "source": [
    "local_df.info() # we could also find that this data munging works because we now have 296 entries instead of 300 entries."
   ]
  },
  {
   "cell_type": "markdown",
   "metadata": {},
   "source": [
    "2.sort the school name by ascending order "
   ]
  },
  {
   "cell_type": "code",
   "execution_count": 199,
   "metadata": {},
   "outputs": [
    {
     "data": {
      "text/html": [
       "<div>\n",
       "<style scoped>\n",
       "    .dataframe tbody tr th:only-of-type {\n",
       "        vertical-align: middle;\n",
       "    }\n",
       "\n",
       "    .dataframe tbody tr th {\n",
       "        vertical-align: top;\n",
       "    }\n",
       "\n",
       "    .dataframe thead th {\n",
       "        text-align: right;\n",
       "    }\n",
       "</style>\n",
       "<table border=\"1\" class=\"dataframe\">\n",
       "  <thead>\n",
       "    <tr style=\"text-align: right;\">\n",
       "      <th></th>\n",
       "      <th>DBN</th>\n",
       "      <th>School Name</th>\n",
       "      <th>CTE Designated High School</th>\n",
       "      <th>Program CIP Code</th>\n",
       "      <th>Program Name</th>\n",
       "      <th>Industry Cluster</th>\n",
       "      <th>Number of Industry Partners</th>\n",
       "      <th>Is NYSED Approved</th>\n",
       "      <th>Grade Levels Served</th>\n",
       "      <th>Enrolled Student Counts</th>\n",
       "      <th>Number of Staff Attending DOE CTE PD</th>\n",
       "    </tr>\n",
       "  </thead>\n",
       "  <tbody>\n",
       "    <tr>\n",
       "      <th>104</th>\n",
       "      <td>13K499</td>\n",
       "      <td>ACORN Community High School</td>\n",
       "      <td>False</td>\n",
       "      <td>110201</td>\n",
       "      <td>Computer Programming/Programmer, General</td>\n",
       "      <td>Information Technology Cluster</td>\n",
       "      <td>1</td>\n",
       "      <td>Non-Approved</td>\n",
       "      <td>9101112.0</td>\n",
       "      <td>123</td>\n",
       "      <td>1</td>\n",
       "    </tr>\n",
       "    <tr>\n",
       "      <th>159</th>\n",
       "      <td>21K410</td>\n",
       "      <td>Abraham Lincoln High School</td>\n",
       "      <td>False</td>\n",
       "      <td>510808</td>\n",
       "      <td>Veterinary/Animal Health Technology/Technician...</td>\n",
       "      <td>Health Science Cluster</td>\n",
       "      <td>2</td>\n",
       "      <td>Approved</td>\n",
       "      <td>9101112.0</td>\n",
       "      <td>336</td>\n",
       "      <td>6</td>\n",
       "    </tr>\n",
       "    <tr>\n",
       "      <th>160</th>\n",
       "      <td>21K410</td>\n",
       "      <td>Abraham Lincoln High School</td>\n",
       "      <td>False</td>\n",
       "      <td>520701</td>\n",
       "      <td>Entrepreneurship/Entrepreneurial Studies</td>\n",
       "      <td>Business Management and Administration Cluster</td>\n",
       "      <td>3</td>\n",
       "      <td>Non-Approved</td>\n",
       "      <td>9101112.0</td>\n",
       "      <td>66</td>\n",
       "      <td>6</td>\n",
       "    </tr>\n",
       "    <tr>\n",
       "      <th>254</th>\n",
       "      <td>30Q301</td>\n",
       "      <td>Academy for Careers in Television and Film</td>\n",
       "      <td>True</td>\n",
       "      <td>500602</td>\n",
       "      <td>Cinematography and Film/Video Production</td>\n",
       "      <td>Arts, Audio/Video Technology and Communication...</td>\n",
       "      <td>5</td>\n",
       "      <td>Approved</td>\n",
       "      <td>9101112.0</td>\n",
       "      <td>564</td>\n",
       "      <td>1</td>\n",
       "    </tr>\n",
       "    <tr>\n",
       "      <th>133</th>\n",
       "      <td>17K751</td>\n",
       "      <td>Academy for Health Careers</td>\n",
       "      <td>True</td>\n",
       "      <td>511614</td>\n",
       "      <td>Nurse/Nursing Assistant/Aide and Patient Care ...</td>\n",
       "      <td>Health Science Cluster</td>\n",
       "      <td>1</td>\n",
       "      <td>Non-Approved</td>\n",
       "      <td>9101112.0</td>\n",
       "      <td>302</td>\n",
       "      <td>3</td>\n",
       "    </tr>\n",
       "  </tbody>\n",
       "</table>\n",
       "</div>"
      ],
      "text/plain": [
       "        DBN                                 School Name  \\\n",
       "104  13K499                 ACORN Community High School   \n",
       "159  21K410                 Abraham Lincoln High School   \n",
       "160  21K410                 Abraham Lincoln High School   \n",
       "254  30Q301  Academy for Careers in Television and Film   \n",
       "133  17K751                  Academy for Health Careers   \n",
       "\n",
       "     CTE Designated High School  Program CIP Code  \\\n",
       "104                       False            110201   \n",
       "159                       False            510808   \n",
       "160                       False            520701   \n",
       "254                        True            500602   \n",
       "133                        True            511614   \n",
       "\n",
       "                                          Program Name  \\\n",
       "104           Computer Programming/Programmer, General   \n",
       "159  Veterinary/Animal Health Technology/Technician...   \n",
       "160           Entrepreneurship/Entrepreneurial Studies   \n",
       "254           Cinematography and Film/Video Production   \n",
       "133  Nurse/Nursing Assistant/Aide and Patient Care ...   \n",
       "\n",
       "                                      Industry Cluster  \\\n",
       "104                     Information Technology Cluster   \n",
       "159                             Health Science Cluster   \n",
       "160     Business Management and Administration Cluster   \n",
       "254  Arts, Audio/Video Technology and Communication...   \n",
       "133                             Health Science Cluster   \n",
       "\n",
       "     Number of Industry Partners Is NYSED Approved  Grade Levels Served  \\\n",
       "104                            1      Non-Approved            9101112.0   \n",
       "159                            2          Approved            9101112.0   \n",
       "160                            3      Non-Approved            9101112.0   \n",
       "254                            5          Approved            9101112.0   \n",
       "133                            1      Non-Approved            9101112.0   \n",
       "\n",
       "     Enrolled Student Counts  Number of Staff Attending DOE CTE PD  \n",
       "104                      123                                     1  \n",
       "159                      336                                     6  \n",
       "160                       66                                     6  \n",
       "254                      564                                     1  \n",
       "133                      302                                     3  "
      ]
     },
     "execution_count": 199,
     "metadata": {},
     "output_type": "execute_result"
    }
   ],
   "source": [
    "local_df = local_df.sort_values(by='School Name', ascending=True)\n",
    "local_df.head(5) #since I am doing a ranking here so I have to use head() instead of sample()"
   ]
  },
  {
   "cell_type": "markdown",
   "metadata": {},
   "source": [
    "## Data analysis\n",
    "Place your **data analysis** code and documentation within this section.\n",
    "- Perform at least 5 different statistical or other analyses of different aspects of the data.\n",
    "    - Your analyses must be specific and relevant to your chosen data set and show interesting aspects of it.\n",
    "    - Include at least one analysis that includes grouping rows by a shared attribute and performing some kind of statistical analysis on each group.\n",
    "    - Sort the data in at least 1 of your analyses, but sort on its own does not constitute an analysis on its own.\n",
    "- Keep each of your Code cells short and focused on a single task.\n",
    "- Include a Markdown cell above each Code cell that describes what task the code within the Code cell is performing.\n",
    "- Make as many code cells as you need to complete the analysis - a few have been created for you to start with."
   ]
  },
  {
   "cell_type": "markdown",
   "metadata": {},
   "source": [
    "1.Find How many schools are approved or not approved by NYSED"
   ]
  },
  {
   "cell_type": "code",
   "execution_count": 200,
   "metadata": {},
   "outputs": [
    {
     "data": {
      "text/plain": [
       "Approved        149\n",
       "Non-Approved    147\n",
       "Name: Is NYSED Approved, dtype: int64"
      ]
     },
     "execution_count": 200,
     "metadata": {},
     "output_type": "execute_result"
    }
   ],
   "source": [
    "local_df['Is NYSED Approved'].value_counts() #run the the cleared dataset after data munging "
   ]
  },
  {
   "cell_type": "markdown",
   "metadata": {},
   "source": [
    "2.get basic statistics reagrding Enrolled Student Counts e.g. the mean of Enrolled Students is 239 with 296 counts. "
   ]
  },
  {
   "cell_type": "code",
   "execution_count": 245,
   "metadata": {},
   "outputs": [
    {
     "data": {
      "text/plain": [
       "count     296.000000\n",
       "mean      239.013514\n",
       "std       250.887779\n",
       "min         1.000000\n",
       "25%        95.750000\n",
       "50%       175.500000\n",
       "75%       313.500000\n",
       "max      2341.000000\n",
       "Name: Enrolled Student Counts, dtype: float64"
      ]
     },
     "execution_count": 245,
     "metadata": {},
     "output_type": "execute_result"
    }
   ],
   "source": [
    "local_df['Enrolled Student Counts'].describe() # we will find data like mean is 239 students"
   ]
  },
  {
   "cell_type": "markdown",
   "metadata": {},
   "source": [
    "3.show 5 schools with highest number of Staff Attending DOE CTE PD\n",
    "(Include at least one analysis that includes grouping rows by a shared attribute and performing some kind of statistical analysis on each group.)"
   ]
  },
  {
   "cell_type": "code",
   "execution_count": 202,
   "metadata": {},
   "outputs": [
    {
     "data": {
      "text/plain": [
       "School Name\n",
       "New Dorp High School                                  18.0\n",
       "Queens Technical High School                          18.0\n",
       "George Westinghouse Career and Technical Education    18.0\n",
       "Bayside High School                                   19.0\n",
       "Thomas A. Edison Career and Technical Education Hi    29.0\n",
       "Name: Number of Staff Attending DOE CTE PD, dtype: float64"
      ]
     },
     "execution_count": 202,
     "metadata": {},
     "output_type": "execute_result"
    }
   ],
   "source": [
    "local_df.groupby('School Name')[\"Number of Staff Attending DOE CTE PD\"].mean().sort_values().tail(5)"
   ]
  },
  {
   "cell_type": "markdown",
   "metadata": {},
   "source": [
    "4.Find 5 schools with highest number of Industry Partners with name,program name,and whether the school is a CTE Designated High School provided\n",
    "(Sort the data in at least 1 of your analyses, but sort on its own does not constitute an analysis on its own.)"
   ]
  },
  {
   "cell_type": "code",
   "execution_count": 249,
   "metadata": {},
   "outputs": [
    {
     "data": {
      "text/html": [
       "<div>\n",
       "<style scoped>\n",
       "    .dataframe tbody tr th:only-of-type {\n",
       "        vertical-align: middle;\n",
       "    }\n",
       "\n",
       "    .dataframe tbody tr th {\n",
       "        vertical-align: top;\n",
       "    }\n",
       "\n",
       "    .dataframe thead th {\n",
       "        text-align: right;\n",
       "    }\n",
       "</style>\n",
       "<table border=\"1\" class=\"dataframe\">\n",
       "  <thead>\n",
       "    <tr style=\"text-align: right;\">\n",
       "      <th></th>\n",
       "      <th>School Name</th>\n",
       "      <th>CTE Designated High School</th>\n",
       "      <th>Program Name</th>\n",
       "      <th>Number of Industry Partners</th>\n",
       "    </tr>\n",
       "  </thead>\n",
       "  <tbody>\n",
       "    <tr>\n",
       "      <th>273</th>\n",
       "      <td>Curtis High School</td>\n",
       "      <td>False</td>\n",
       "      <td>Criminal Justice/Police Science</td>\n",
       "      <td>36</td>\n",
       "    </tr>\n",
       "    <tr>\n",
       "      <th>230</th>\n",
       "      <td>Hillcrest High School</td>\n",
       "      <td>False</td>\n",
       "      <td>Corrections and Criminal Justice, Other</td>\n",
       "      <td>17</td>\n",
       "    </tr>\n",
       "    <tr>\n",
       "      <th>267</th>\n",
       "      <td>New Dorp High School</td>\n",
       "      <td>False</td>\n",
       "      <td>Corrections and Criminal Justice, Other</td>\n",
       "      <td>15</td>\n",
       "    </tr>\n",
       "    <tr>\n",
       "      <th>1</th>\n",
       "      <td>The Urban Assembly School for Emergency Manage...</td>\n",
       "      <td>True</td>\n",
       "      <td>Security and Protective Services, Other</td>\n",
       "      <td>14</td>\n",
       "    </tr>\n",
       "    <tr>\n",
       "      <th>198</th>\n",
       "      <td>Flushing High School</td>\n",
       "      <td>False</td>\n",
       "      <td>Corrections and Criminal Justice, Other</td>\n",
       "      <td>13</td>\n",
       "    </tr>\n",
       "  </tbody>\n",
       "</table>\n",
       "</div>"
      ],
      "text/plain": [
       "                                           School Name  \\\n",
       "273                                 Curtis High School   \n",
       "230                              Hillcrest High School   \n",
       "267                               New Dorp High School   \n",
       "1    The Urban Assembly School for Emergency Manage...   \n",
       "198                               Flushing High School   \n",
       "\n",
       "     CTE Designated High School                             Program Name  \\\n",
       "273                       False          Criminal Justice/Police Science   \n",
       "230                       False  Corrections and Criminal Justice, Other   \n",
       "267                       False  Corrections and Criminal Justice, Other   \n",
       "1                          True  Security and Protective Services, Other   \n",
       "198                       False  Corrections and Criminal Justice, Other   \n",
       "\n",
       "     Number of Industry Partners  \n",
       "273                           36  \n",
       "230                           17  \n",
       "267                           15  \n",
       "1                             14  \n",
       "198                           13  "
      ]
     },
     "execution_count": 249,
     "metadata": {},
     "output_type": "execute_result"
    }
   ],
   "source": [
    "local_df[ [\"School Name\", \"CTE Designated High School\", \"Program Name\",\"Number of Industry Partners\"] ].sort_values(by=\"Number of Industry Partners\", ascending=False).head(5)"
   ]
  },
  {
   "cell_type": "markdown",
   "metadata": {},
   "source": [
    "Since the code is too long and could not be shown completely, I will add a markdown here about the code:\n",
    "\n",
    "local_df[ [\"School Name\", \"CTE Designated High School\", \"Program Name\",\"Number of Industry Partners\"] ].sort_values(by=\"Number of Industry Partners\", ascending=False).head(5)"
   ]
  },
  {
   "cell_type": "markdown",
   "metadata": {},
   "source": [
    "5.Find How many schools are/ are not CTE Designated High School"
   ]
  },
  {
   "cell_type": "code",
   "execution_count": 204,
   "metadata": {},
   "outputs": [
    {
     "data": {
      "text/plain": [
       "False    171\n",
       "True     125\n",
       "Name: CTE Designated High School, dtype: int64"
      ]
     },
     "execution_count": 204,
     "metadata": {},
     "output_type": "execute_result"
    }
   ],
   "source": [
    "local_df['CTE Designated High School'].value_counts()"
   ]
  },
  {
   "cell_type": "markdown",
   "metadata": {},
   "source": [
    "## Data visualization\n",
    "In this section, you will create a few **visualizations** that show some of the insights you have gathered from this data.\n",
    "- Create at least 5 different visualizations, where each visualization shows different insights into the data.\n",
    "- Use at least 3 different visualization types (e.g. bar charts, line charts, stacked area charts, pie charts, etc)\n",
    "- Create a Markdown cell and a Code cell for each, where you explain and show the visualizations, respectively.\n",
    "- Create as many additional cells as you need to prepare the data for the visualizations."
   ]
  },
  {
   "cell_type": "code",
   "execution_count": 205,
   "metadata": {},
   "outputs": [],
   "source": [
    "%matplotlib inline\n",
    "import matplotlib.pyplot as plt\n",
    "plt.style.use('seaborn')"
   ]
  },
  {
   "cell_type": "markdown",
   "metadata": {},
   "source": [
    "1.bar chart \n",
    "\n",
    "For High schools in NYC with Career and Technical Education programs, Thomas A. Edison Career and Technical Education High school (TAE) has the highest number of Staff Attending DOE CTE PD, which is 29. The remaining 4 high schools also have relatively high number of Staff Attending DOE CTE PD, which is around 18 and 19. "
   ]
  },
  {
   "cell_type": "code",
   "execution_count": 206,
   "metadata": {
    "scrolled": false
   },
   "outputs": [
    {
     "data": {
      "text/plain": [
       "School Name\n",
       "New Dorp High School                                  18.0\n",
       "Queens Technical High School                          18.0\n",
       "George Westinghouse Career and Technical Education    18.0\n",
       "Bayside High School                                   19.0\n",
       "Thomas A. Edison Career and Technical Education Hi    29.0\n",
       "Name: Number of Staff Attending DOE CTE PD, dtype: float64"
      ]
     },
     "execution_count": 206,
     "metadata": {},
     "output_type": "execute_result"
    }
   ],
   "source": [
    "local_df.groupby('School Name')[\"Number of Staff Attending DOE CTE PD\"].mean().sort_values().tail(5)"
   ]
  },
  {
   "cell_type": "code",
   "execution_count": 240,
   "metadata": {},
   "outputs": [
    {
     "data": {
      "text/plain": [
       "Text(0, 0.5, 'Number of Industry Partners')"
      ]
     },
     "execution_count": 240,
     "metadata": {},
     "output_type": "execute_result"
    },
    {
     "data": {
      "image/png": "[encoded data removed]",
      "text/plain": [
       "<Figure size 576x396 with 1 Axes>"
      ]
     },
     "metadata": {},
     "output_type": "display_data"
    }
   ],
   "source": [
    "plotdata = pd.DataFrame(\n",
    "    {\"Number of Industry Partners\":[18, 18, 18, 19, 29]},\n",
    "    index=[\"ND\", \"QT\", \"GWCTE\", \"Bayside\", \"TAE\"]) \n",
    "#because the school name is too long, so I have to hard code to rename them to make them show properly on x-axis\n",
    "plotdata.plot(kind=\"bar\")\n",
    "plt.title('Number of Partners for NYC High schools with CTEP') \n",
    "#CTEP stands for Career and Technical Education programs\n",
    "plt.xlabel(\"School Name Abbrv.\")\n",
    "plt.ylabel(\"Number of Industry Partners\")"
   ]
  },
  {
   "cell_type": "markdown",
   "metadata": {},
   "source": [
    "2.line chart\n",
    "\n",
    "Among these 5 samples (rank alphabetically first after my data munging),enrolled Student Counts varies and this does not depend on whether this school is a CTE Designated High School. Accoridng to the line chart, we could easily find which school has highest number of students enrolled and which one has lowest. For example, among these 5 schools, we could find that the Academy for Careers in Television and Film (DBN:30Q301) has highest number of students enrolled, which is 564. "
   ]
  },
  {
   "cell_type": "code",
   "execution_count": 246,
   "metadata": {
    "scrolled": true
   },
   "outputs": [
    {
     "data": {
      "text/plain": [
       "Text(0, 0.5, 'Enrolled Student Counts')"
      ]
     },
     "execution_count": 246,
     "metadata": {},
     "output_type": "execute_result"
    },
    {
     "data": {
      "image/png": "[encoded data removed]",
      "text/plain": [
       "<Figure size 576x396 with 1 Axes>"
      ]
     },
     "metadata": {},
     "output_type": "display_data"
    }
   ],
   "source": [
    "x2=local_df.head(5)[\"DBN\"] \n",
    "#Because the school name is too long and will affect the display of x-axis, I used DBN to represent different schools \n",
    "y2=local_df.head(5)[\"Enrolled Student Counts\"]\n",
    "plt.plot(x2, y2)\n",
    "plt.title('Number of Enrolled Students for NYC High schools with CTEP')\n",
    "plt.xlabel(\"School DBN.\")\n",
    "plt.ylabel(\"Enrolled Student Counts\")"
   ]
  },
  {
   "cell_type": "markdown",
   "metadata": {},
   "source": [
    "3.bar chart\n",
    "\n",
    "According to the bar chart, we could tell that the majority of high schools with Career and Technical Education programs in NYC has all 9th,10th, 11th, and 12th grades served. And there are only limited number of schools with only certain grade levels served. "
   ]
  },
  {
   "cell_type": "code",
   "execution_count": 243,
   "metadata": {},
   "outputs": [
    {
     "data": {
      "text/plain": [
       "9101112.0    246\n",
       "101112.0      27\n",
       "1112.0        10\n",
       "91011.0        4\n",
       "91112.0        3\n",
       "911.0          2\n",
       "11.0           2\n",
       "91012.0        1\n",
       "910.0          1\n",
       "Name: Grade Levels Served, dtype: int64"
      ]
     },
     "execution_count": 243,
     "metadata": {},
     "output_type": "execute_result"
    }
   ],
   "source": [
    "local_df['Grade Levels Served'].value_counts()"
   ]
  },
  {
   "cell_type": "code",
   "execution_count": 244,
   "metadata": {},
   "outputs": [
    {
     "data": {
      "text/plain": [
       "Text(0, 0.5, 'Number of Schools')"
      ]
     },
     "execution_count": 244,
     "metadata": {},
     "output_type": "execute_result"
    },
    {
     "data": {
      "image/png": "[encoded data removed]",
      "text/plain": [
       "<Figure size 576x396 with 1 Axes>"
      ]
     },
     "metadata": {},
     "output_type": "display_data"
    }
   ],
   "source": [
    "plotdata = pd.DataFrame(\n",
    "    {\"Number of Schools\":[246, 27, 10, 4, 3,2,2,1,1]},\n",
    "    index=[\"9101112\", \"101112\", \"1112\", \"91011\", \"91112\",'911','11','91012','910']) \n",
    "#because the school name is too long, so I have to hard code to rename them to make them show properly on x-axis\n",
    "plotdata.plot(kind=\"bar\")\n",
    "plt.title('Summary of Grade Level served for NYC High schools with CTEP') \n",
    "#CTEP stands for Career and Technical Education programs\n",
    "plt.xlabel(\"Grade Level Served.\")\n",
    "plt.ylabel(\"Number of Schools\")"
   ]
  },
  {
   "cell_type": "markdown",
   "metadata": {},
   "source": [
    "4.pie chart\n",
    "\n",
    "High schools in NYC with Career and Technical Education programs are not all CTE Designated High School. Actually, there are fewer schools are CTE Designated. "
   ]
  },
  {
   "cell_type": "code",
   "execution_count": 134,
   "metadata": {},
   "outputs": [
    {
     "data": {
      "text/plain": [
       "array([<AxesSubplot:ylabel='CTE Designated High School'>], dtype=object)"
      ]
     },
     "execution_count": 134,
     "metadata": {},
     "output_type": "execute_result"
    },
    {
     "data": {
      "image/png": "[encoded data removed]",
      "text/plain": [
       "<Figure size 792x432 with 1 Axes>"
      ]
     },
     "metadata": {},
     "output_type": "display_data"
    }
   ],
   "source": [
    "new_df=local_df['CTE Designated High School'].value_counts()\n",
    "new_df.plot.pie(subplots=True, figsize=(11, 6))"
   ]
  },
  {
   "cell_type": "markdown",
   "metadata": {},
   "source": [
    "5.pie chart \n",
    "\n",
    "High schools in NYC with Career and Technical Education programs are composed of about half NYSED Approved and half not NYSED Approved. Combined with previous pie chart no.4, we could conclude that in NYC, becoming a CTE Designated High School is more difficult than NYSED Approved. "
   ]
  },
  {
   "cell_type": "code",
   "execution_count": 235,
   "metadata": {},
   "outputs": [
    {
     "data": {
      "text/plain": [
       "array([<AxesSubplot:ylabel='Is NYSED Approved'>], dtype=object)"
      ]
     },
     "execution_count": 235,
     "metadata": {},
     "output_type": "execute_result"
    },
    {
     "data": {
      "image/png": "[encoded data removed]",
      "text/plain": [
       "<Figure size 792x432 with 1 Axes>"
      ]
     },
     "metadata": {},
     "output_type": "display_data"
    }
   ],
   "source": [
    "new_df=local_df['Is NYSED Approved'].value_counts()\n",
    "new_df.plot.pie(subplots=True, figsize=(11, 6))"
   ]
  }
 ],
 "metadata": {
  "kernelspec": {
   "display_name": "Python 3 (ipykernel)",
   "language": "python",
   "name": "python3"
  },
  "language_info": {
   "codemirror_mode": {
    "name": "ipython",
    "version": 3
   },
   "file_extension": ".py",
   "mimetype": "text/x-python",
   "name": "python",
   "nbconvert_exporter": "python",
   "pygments_lexer": "ipython3",
   "version": "3.9.7"
  }
 },
 "nbformat": 4,
 "nbformat_minor": 4
}
